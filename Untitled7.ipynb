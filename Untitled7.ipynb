{
 "cells": [
  {
   "cell_type": "code",
   "execution_count": 1,
   "id": "5aefd9a2",
   "metadata": {},
   "outputs": [],
   "source": [
    "def totaltax():\n",
    "    sal=eval(input (\"enter a salary\"))\n",
    "    taxper=eval(input (\"enter a tax percentage\"))\n",
    "    tataltax=(salary*tax/100)\n",
    "    print(\"total tax pay {},{}={}\".format(sal,taxper))\n",
    "    \n"
   ]
  },
  {
   "cell_type": "code",
   "execution_count": 4,
   "id": "1332b645",
   "metadata": {},
   "outputs": [
    {
     "name": "stdout",
     "output_type": "stream",
     "text": [
      "enter a salary1000\n",
      "enter a tax %5\n"
     ]
    },
    {
     "ename": "NameError",
     "evalue": "name 'salary' is not defined",
     "output_type": "error",
     "traceback": [
      "\u001b[1;31m---------------------------------------------------------------------------\u001b[0m",
      "\u001b[1;31mNameError\u001b[0m                                 Traceback (most recent call last)",
      "Cell \u001b[1;32mIn[4], line 1\u001b[0m\n\u001b[1;32m----> 1\u001b[0m totaltax()\n",
      "Cell \u001b[1;32mIn[1], line 4\u001b[0m, in \u001b[0;36mtotaltax\u001b[1;34m()\u001b[0m\n\u001b[0;32m      2\u001b[0m sal\u001b[38;5;241m=\u001b[39m\u001b[38;5;28meval\u001b[39m(\u001b[38;5;28minput\u001b[39m (\u001b[38;5;124m\"\u001b[39m\u001b[38;5;124menter a salary\u001b[39m\u001b[38;5;124m\"\u001b[39m))\n\u001b[0;32m      3\u001b[0m taxper\u001b[38;5;241m=\u001b[39m\u001b[38;5;28meval\u001b[39m(\u001b[38;5;28minput\u001b[39m (\u001b[38;5;124m\"\u001b[39m\u001b[38;5;124menter a tax \u001b[39m\u001b[38;5;124m%\u001b[39m\u001b[38;5;124m\"\u001b[39m))\n\u001b[1;32m----> 4\u001b[0m tataltax\u001b[38;5;241m=\u001b[39m(salary\u001b[38;5;241m*\u001b[39mtax\u001b[38;5;241m/\u001b[39m\u001b[38;5;241m100\u001b[39m)\n",
      "\u001b[1;31mNameError\u001b[0m: name 'salary' is not defined"
     ]
    }
   ],
   "source": [
    "totaltax()"
   ]
  },
  {
   "cell_type": "code",
   "execution_count": 6,
   "id": "2303f126",
   "metadata": {},
   "outputs": [],
   "source": [
    "def tax_cal(salary,tax_per):\n",
    "    total_tax=salary*tax_per/100\n",
    "    print(\"the total tax is:\",total_tax)\n"
   ]
  },
  {
   "cell_type": "code",
   "execution_count": 7,
   "id": "53d80d5c",
   "metadata": {},
   "outputs": [
    {
     "name": "stdout",
     "output_type": "stream",
     "text": [
      "the total tax is: 100.0\n"
     ]
    }
   ],
   "source": [
    "tax_cal(1000,10)"
   ]
  },
  {
   "cell_type": "code",
   "execution_count": null,
   "id": "b1d55d85",
   "metadata": {},
   "outputs": [],
   "source": [
    "\n"
   ]
  }
 ],
 "metadata": {
  "kernelspec": {
   "display_name": "Python 3 (ipykernel)",
   "language": "python",
   "name": "python3"
  },
  "language_info": {
   "codemirror_mode": {
    "name": "ipython",
    "version": 3
   },
   "file_extension": ".py",
   "mimetype": "text/x-python",
   "name": "python",
   "nbconvert_exporter": "python",
   "pygments_lexer": "ipython3",
   "version": "3.11.5"
  }
 },
 "nbformat": 4,
 "nbformat_minor": 5
}
