{
 "cells": [
  {
   "cell_type": "code",
   "execution_count": 1,
   "id": "7b52844c",
   "metadata": {},
   "outputs": [
    {
     "name": "stdout",
     "output_type": "stream",
     "text": [
      "python\n"
     ]
    },
    {
     "ename": "NameError",
     "evalue": "name 'python' is not defined",
     "output_type": "error",
     "traceback": [
      "\u001b[1;31m---------------------------------------------------------------------------\u001b[0m",
      "\u001b[1;31mNameError\u001b[0m                                 Traceback (most recent call last)",
      "Cell \u001b[1;32mIn[1], line 1\u001b[0m\n\u001b[1;32m----> 1\u001b[0m n\u001b[38;5;241m=\u001b[39m\u001b[38;5;28meval\u001b[39m(\u001b[38;5;28minput\u001b[39m())\n",
      "File \u001b[1;32m<string>:1\u001b[0m\n",
      "\u001b[1;31mNameError\u001b[0m: name 'python' is not defined"
     ]
    }
   ],
   "source": [
    "n=eval(input())"
   ]
  },
  {
   "cell_type": "code",
   "execution_count": null,
   "id": "c76d3156",
   "metadata": {},
   "outputs": [],
   "source": [
    "##abcde"
   ]
  },
  {
   "cell_type": "code",
   "execution_count": null,
   "id": "1299c171",
   "metadata": {},
   "outputs": [],
   "source": [
    "if <condition>\n",
    "elif <condtion>\n",
    "else # No condition"
   ]
  },
  {
   "cell_type": "code",
   "execution_count": 2,
   "id": "3470ac92",
   "metadata": {},
   "outputs": [
    {
     "ename": "IndentationError",
     "evalue": "expected an indented block after 'if' statement on line 1 (3446039839.py, line 2)",
     "output_type": "error",
     "traceback": [
      "\u001b[1;36m  Cell \u001b[1;32mIn[2], line 2\u001b[1;36m\u001b[0m\n\u001b[1;33m    print('hello')\u001b[0m\n\u001b[1;37m    ^\u001b[0m\n\u001b[1;31mIndentationError\u001b[0m\u001b[1;31m:\u001b[0m expected an indented block after 'if' statement on line 1\n"
     ]
    }
   ],
   "source": [
    "if a==10\n",
    "print('hello')\n"
   ]
  },
  {
   "cell_type": "code",
   "execution_count": 4,
   "id": "96884749",
   "metadata": {},
   "outputs": [
    {
     "ename": "NameError",
     "evalue": "name 'a' is not defined",
     "output_type": "error",
     "traceback": [
      "\u001b[1;31m---------------------------------------------------------------------------\u001b[0m",
      "\u001b[1;31mNameError\u001b[0m                                 Traceback (most recent call last)",
      "Cell \u001b[1;32mIn[4], line 1\u001b[0m\n\u001b[1;32m----> 1\u001b[0m \u001b[38;5;28;01mif\u001b[39;00m a\u001b[38;5;241m==\u001b[39m\u001b[38;5;241m10\u001b[39m:\n\u001b[0;32m      2\u001b[0m     \u001b[38;5;28mprint\u001b[39m(\u001b[38;5;124m'\u001b[39m\u001b[38;5;124mhello\u001b[39m\u001b[38;5;124m'\u001b[39m)\n",
      "\u001b[1;31mNameError\u001b[0m: name 'a' is not defined"
     ]
    }
   ],
   "source": [
    "if a==10:\n",
    "    print('hello')"
   ]
  },
  {
   "cell_type": "code",
   "execution_count": null,
   "id": "c4a3398c",
   "metadata": {},
   "outputs": [],
   "source": [
    "summ=10\n",
    "max=25"
   ]
  },
  {
   "cell_type": "markdown",
   "id": "01facf9a",
   "metadata": {},
   "source": [
    "**Functions**"
   ]
  },
  {
   "cell_type": "markdown",
   "id": "ff8a18d3",
   "metadata": {},
   "source": [
    "- Reuse any part of code"
   ]
  },
  {
   "cell_type": "markdown",
   "id": "1bef978e",
   "metadata": {},
   "source": [
    "**With out arguments**"
   ]
  },
  {
   "cell_type": "code",
   "execution_count": 6,
   "id": "58993c37",
   "metadata": {},
   "outputs": [
    {
     "name": "stdout",
     "output_type": "stream",
     "text": [
      "the addition of 10 and 20 is 30\n"
     ]
    }
   ],
   "source": [
    "n1=10\n",
    "n2=20\n",
    "add=n1+n2\n",
    "print(\"the addition of {} and {} is {}\".format(n1,n2,add))"
   ]
  },
  {
   "cell_type": "code",
   "execution_count": null,
   "id": "72130d23",
   "metadata": {},
   "outputs": [],
   "source": [
    "def <function_name>():\n",
    "    # write your code here"
   ]
  },
  {
   "cell_type": "code",
   "execution_count": 20,
   "id": "f20cd2b6",
   "metadata": {},
   "outputs": [],
   "source": [
    "def addition():\n",
    "    n1=10\n",
    "    n2=20\n",
    "    add=n1+n2\n",
    "    print(\"the addition of {} and {} is {}\".format(n1,n2,add))\n"
   ]
  },
  {
   "cell_type": "code",
   "execution_count": 21,
   "id": "f0ace352",
   "metadata": {},
   "outputs": [],
   "source": [
    "# The output will not display untill unless you call the function"
   ]
  },
  {
   "cell_type": "code",
   "execution_count": 22,
   "id": "3fd64b98",
   "metadata": {},
   "outputs": [
    {
     "name": "stdout",
     "output_type": "stream",
     "text": [
      "the addition of 10 and 20 is 30\n"
     ]
    }
   ],
   "source": [
    "addition()"
   ]
  },
  {
   "cell_type": "code",
   "execution_count": 23,
   "id": "b30b2f64",
   "metadata": {},
   "outputs": [],
   "source": [
    "def hello():\n",
    "    n1=eval(input('enter number'))\n",
    "    print('hello')\n",
    "    print('im writing function')"
   ]
  },
  {
   "cell_type": "code",
   "execution_count": 24,
   "id": "e360ebf9",
   "metadata": {},
   "outputs": [
    {
     "name": "stdout",
     "output_type": "stream",
     "text": [
      "enter number50\n",
      "hello\n",
      "im writing function\n"
     ]
    }
   ],
   "source": [
    "hello()"
   ]
  },
  {
   "cell_type": "code",
   "execution_count": null,
   "id": "9ae531a2",
   "metadata": {},
   "outputs": [],
   "source": []
  },
  {
   "cell_type": "code",
   "execution_count": null,
   "id": "2c794a66",
   "metadata": {},
   "outputs": [],
   "source": [
    "but how did python execute 2nd and not 1st function."
   ]
  },
  {
   "cell_type": "code",
   "execution_count": 17,
   "id": "14bd0255",
   "metadata": {},
   "outputs": [],
   "source": [
    "a=100\n",
    "a=200\n",
    "\n",
    "# why a is not equal to 100"
   ]
  },
  {
   "cell_type": "code",
   "execution_count": 18,
   "id": "3bf29a48",
   "metadata": {},
   "outputs": [
    {
     "name": "stdout",
     "output_type": "stream",
     "text": [
      "200\n"
     ]
    }
   ],
   "source": [
    "print(a)"
   ]
  },
  {
   "cell_type": "code",
   "execution_count": 19,
   "id": "ab9c632d",
   "metadata": {},
   "outputs": [],
   "source": [
    "a=1000"
   ]
  },
  {
   "cell_type": "code",
   "execution_count": null,
   "id": "f66b07ab",
   "metadata": {},
   "outputs": [],
   "source": [
    "# python will latest value one"
   ]
  },
  {
   "cell_type": "code",
   "execution_count": null,
   "id": "ee0ae00d",
   "metadata": {},
   "outputs": [],
   "source": [
    "# In this particular cell : 500lines "
   ]
  },
  {
   "cell_type": "code",
   "execution_count": null,
   "id": "9e7150e6",
   "metadata": {},
   "outputs": [],
   "source": [
    "# lin1"
   ]
  },
  {
   "cell_type": "code",
   "execution_count": null,
   "id": "10b1d599",
   "metadata": {},
   "outputs": [],
   "source": [
    "# lin2"
   ]
  },
  {
   "cell_type": "code",
   "execution_count": null,
   "id": "974a816c",
   "metadata": {},
   "outputs": [],
   "source": [
    "# lin3"
   ]
  },
  {
   "cell_type": "code",
   "execution_count": 25,
   "id": "b7456217",
   "metadata": {},
   "outputs": [],
   "source": [
    "n1=100"
   ]
  },
  {
   "cell_type": "code",
   "execution_count": 26,
   "id": "2491d358",
   "metadata": {},
   "outputs": [],
   "source": [
    "n2=200"
   ]
  },
  {
   "cell_type": "code",
   "execution_count": 27,
   "id": "18d79d4c",
   "metadata": {},
   "outputs": [
    {
     "name": "stdout",
     "output_type": "stream",
     "text": [
      "300\n"
     ]
    }
   ],
   "source": [
    "print(n1+n2)"
   ]
  },
  {
   "cell_type": "code",
   "execution_count": 29,
   "id": "1fb80951",
   "metadata": {},
   "outputs": [
    {
     "name": "stdout",
     "output_type": "stream",
     "text": [
      "hello good morning\n"
     ]
    }
   ],
   "source": [
    "def hello_world():\n",
    "    print('hello good morning')\n",
    "    \n",
    "hello_world()"
   ]
  },
  {
   "cell_type": "code",
   "execution_count": null,
   "id": "67f8d603",
   "metadata": {},
   "outputs": [],
   "source": [
    "# Take three numbers find the average\n",
    "# WAP ask the user enter 3 numbers\n",
    "# n1=eval(input())\n",
    "# n2=eval(input())\n",
    "# n3=eval(input())\n",
    "# avg=(n1+n2+n3)/3\n",
    "# First write normal code\n",
    "# Then implemnt the function"
   ]
  },
  {
   "cell_type": "code",
   "execution_count": 30,
   "id": "adeb0996",
   "metadata": {},
   "outputs": [
    {
     "name": "stdout",
     "output_type": "stream",
     "text": [
      "enter number1:20\n",
      "enter number2:30\n",
      "enter number3:40\n",
      "the average of 20,30 and 40 is 30.0\n"
     ]
    }
   ],
   "source": [
    "num1=eval(input(\"enter number1:\"))\n",
    "num2=eval(input(\"enter number2:\"))\n",
    "num3=eval(input(\"enter number3:\"))\n",
    "avg=(num1+num2+num3)/3\n",
    "print(\"the average of {},{} and {} is {}\".format(num1,num2,num3,avg))"
   ]
  },
  {
   "cell_type": "code",
   "execution_count": 37,
   "id": "f220a5aa",
   "metadata": {},
   "outputs": [],
   "source": [
    "def avg():\n",
    "    num1=eval(input(\"enter number1:\"))\n",
    "    num2=eval(input(\"enter number2:\"))\n",
    "    num3=eval(input(\"enter number3:\"))\n",
    "    avg=(num1+num2+num33333)/3\n",
    "    print(\"the average of {},{} and {} is {}\".format(num1,num2,num3,avg))"
   ]
  },
  {
   "cell_type": "code",
   "execution_count": 38,
   "id": "fd1afccd",
   "metadata": {},
   "outputs": [
    {
     "name": "stdout",
     "output_type": "stream",
     "text": [
      "enter number1:100\n",
      "enter number2:100\n",
      "enter number3:100\n"
     ]
    },
    {
     "ename": "NameError",
     "evalue": "name 'num33333' is not defined",
     "output_type": "error",
     "traceback": [
      "\u001b[1;31m---------------------------------------------------------------------------\u001b[0m",
      "\u001b[1;31mNameError\u001b[0m                                 Traceback (most recent call last)",
      "Cell \u001b[1;32mIn[38], line 1\u001b[0m\n\u001b[1;32m----> 1\u001b[0m avg()\n",
      "Cell \u001b[1;32mIn[37], line 5\u001b[0m, in \u001b[0;36mavg\u001b[1;34m()\u001b[0m\n\u001b[0;32m      3\u001b[0m num2\u001b[38;5;241m=\u001b[39m\u001b[38;5;28meval\u001b[39m(\u001b[38;5;28minput\u001b[39m(\u001b[38;5;124m\"\u001b[39m\u001b[38;5;124menter number2:\u001b[39m\u001b[38;5;124m\"\u001b[39m))\n\u001b[0;32m      4\u001b[0m num3\u001b[38;5;241m=\u001b[39m\u001b[38;5;28meval\u001b[39m(\u001b[38;5;28minput\u001b[39m(\u001b[38;5;124m\"\u001b[39m\u001b[38;5;124menter number3:\u001b[39m\u001b[38;5;124m\"\u001b[39m))\n\u001b[1;32m----> 5\u001b[0m avg\u001b[38;5;241m=\u001b[39m(num1\u001b[38;5;241m+\u001b[39mnum2\u001b[38;5;241m+\u001b[39mnum33333)\u001b[38;5;241m/\u001b[39m\u001b[38;5;241m3\u001b[39m\n\u001b[0;32m      6\u001b[0m \u001b[38;5;28mprint\u001b[39m(\u001b[38;5;124m\"\u001b[39m\u001b[38;5;124mthe average of \u001b[39m\u001b[38;5;132;01m{}\u001b[39;00m\u001b[38;5;124m,\u001b[39m\u001b[38;5;132;01m{}\u001b[39;00m\u001b[38;5;124m and \u001b[39m\u001b[38;5;132;01m{}\u001b[39;00m\u001b[38;5;124m is \u001b[39m\u001b[38;5;132;01m{}\u001b[39;00m\u001b[38;5;124m\"\u001b[39m\u001b[38;5;241m.\u001b[39mformat(num1,num2,num3,avg))\n",
      "\u001b[1;31mNameError\u001b[0m: name 'num33333' is not defined"
     ]
    }
   ],
   "source": [
    "avg()"
   ]
  },
  {
   "cell_type": "markdown",
   "id": "a4e7cd47",
   "metadata": {},
   "source": [
    "**Note**:\n",
    "    \n",
    "    we are not sure , the function is defined correct or wrong\n",
    "    \n",
    "    untill unless we call the function"
   ]
  },
  {
   "cell_type": "code",
   "execution_count": 39,
   "id": "4687c840",
   "metadata": {},
   "outputs": [
    {
     "name": "stdout",
     "output_type": "stream",
     "text": [
      "enter number1:20\n",
      "enter number2:30\n",
      "enter number3:40\n",
      "the average of 20,30 and 40 is 30.0\n"
     ]
    }
   ],
   "source": [
    "try:\n",
    "    num1=eval(input(\"enter number1:\"))\n",
    "    num2=eval(input(\"enter number2:\"))\n",
    "    num3=eval(input(\"enter number3:\"))\n",
    "    avg=(num1+num2+num3)/3\n",
    "    print(\"the average of {},{} and {} is {}\".format(num1,num2,num3,avg))\n",
    "    \n",
    "except Exception as e:\n",
    "    print(e)"
   ]
  },
  {
   "cell_type": "code",
   "execution_count": 41,
   "id": "7adc2c7d",
   "metadata": {},
   "outputs": [
    {
     "name": "stdout",
     "output_type": "stream",
     "text": [
      "enter number1:20\n",
      "enter number2:30\n",
      "enter number3:40\n",
      "name 'num3333' is not defined\n"
     ]
    }
   ],
   "source": [
    "def avg1():\n",
    "    try:\n",
    "        num1=eval(input(\"enter number1:\"))\n",
    "        num2=eval(input(\"enter number2:\"))\n",
    "        num3=eval(input(\"enter number3:\"))\n",
    "        avg=(num1+num2+num3333)/3\n",
    "        print(\"the average of {},{} and {} is {}\".format(num1,num2,num3,avg))\n",
    "    \n",
    "    except Exception as e:\n",
    "        print(e)\n",
    "        \n",
    "avg1()"
   ]
  },
  {
   "cell_type": "code",
   "execution_count": null,
   "id": "d8e80bee",
   "metadata": {},
   "outputs": [],
   "source": [
    "# WAP ask the user enter bill amount\n",
    "#     ask the user enter tip amount\n",
    "#     calculate total bill\n",
    "\n",
    "# First write normal code\n",
    "# Then implement the function"
   ]
  },
  {
   "cell_type": "code",
   "execution_count": 42,
   "id": "d73b1292",
   "metadata": {},
   "outputs": [
    {
     "name": "stdout",
     "output_type": "stream",
     "text": [
      "Enter Bill amount20\n",
      "Enter Tip amount30\n",
      "Total Bill is 50\n"
     ]
    }
   ],
   "source": [
    "def Bill():\n",
    "    try:\n",
    "        Bill_Amt= eval(input(\"Enter Bill amount\"))\n",
    "        Tip_Amt= eval(input(\"Enter Tip amount\"))\n",
    "        Total_Bill = Bill_Amt+Tip_Amt\n",
    "        print(\"Total Bill is {}\".format(Total_Bill))\n",
    "    except exception as e:\n",
    "        print(e)\n",
    "        \n",
    "Bill()"
   ]
  },
  {
   "cell_type": "code",
   "execution_count": null,
   "id": "3f5c5054",
   "metadata": {},
   "outputs": [],
   "source": [
    "#WAP ask the user get a random number between 1 to 100\n",
    "# print it is even or odd number\n",
    "# Implement using function\n",
    "# import <package>\n",
    "# num=<package>.<method_name>(1,100)\n",
    "# if <condition>:\n",
    "#      print(\"{} is an even number\".format(num))\n",
    "#else:\n",
    "#    print(\"{} is an odd number\".format(num))"
   ]
  },
  {
   "cell_type": "code",
   "execution_count": 44,
   "id": "23aea45e",
   "metadata": {},
   "outputs": [
    {
     "name": "stdout",
     "output_type": "stream",
     "text": [
      "54 is an even number\n"
     ]
    }
   ],
   "source": [
    "import random\n",
    "num=random.randint(1,100)\n",
    "if num%2==0:\n",
    "    print(\"{} is an even number\".format(num))\n",
    "else:\n",
    "    print(\"{} is an odd number\".format(num))"
   ]
  },
  {
   "cell_type": "code",
   "execution_count": 47,
   "id": "d1e7136c",
   "metadata": {},
   "outputs": [
    {
     "name": "stdout",
     "output_type": "stream",
     "text": [
      "wev are implementing even odd function\n",
      "take one number\n",
      "the remainder is zero\n",
      "76 is an even number\n"
     ]
    }
   ],
   "source": [
    "import random\n",
    "def even_odd1():\n",
    "    print('we are implementing even odd function')\n",
    "    print(\"take one number\")\n",
    "    num=random.randint(1,100)\n",
    "    if num%2==0:\n",
    "        print(\"the remainder is zero\")\n",
    "        print(\"{} is an even number\".format(num))\n",
    "    else:\n",
    "        print(\"the remainder is not equal to zero\")\n",
    "        print(\"{} is an odd number\".format(num))\n",
    "        \n",
    "even_odd1()"
   ]
  },
  {
   "cell_type": "code",
   "execution_count": 48,
   "id": "5531b663",
   "metadata": {},
   "outputs": [
    {
     "name": "stdout",
     "output_type": "stream",
     "text": [
      "we are implementing even odd function\n",
      "take one number\n",
      "the remainder is zero\n",
      "8 is an even number\n"
     ]
    }
   ],
   "source": [
    "import random\n",
    "def even_odd2():\n",
    "    try:\n",
    "        print('we are implementing even odd function')\n",
    "        print(\"take one number\")\n",
    "        num=random.randint(1,100)\n",
    "        if num%2==0:\n",
    "            print(\"the remainder is zero\")\n",
    "            print(\"{} is an even number\".format(num))\n",
    "        else:\n",
    "            print(\"the remainder is not equal to zero\")\n",
    "            print(\"{} is an odd number\".format(num))\n",
    "            \n",
    "    except Exception as e:\n",
    "        print(e)\n",
    "        \n",
    "even_odd2()"
   ]
  },
  {
   "cell_type": "code",
   "execution_count": 49,
   "id": "4200fff0",
   "metadata": {},
   "outputs": [
    {
     "name": "stdout",
     "output_type": "stream",
     "text": [
      "hello\n",
      "python\n",
      "calling function\n",
      "we are implementing even odd function\n",
      "take one number\n",
      "the remainder is zero\n",
      "50 is an even number\n",
      "done!\n"
     ]
    }
   ],
   "source": [
    "import random\n",
    "print('hello')\n",
    "print(\"python\")\n",
    "def even_odd2():\n",
    "    try:\n",
    "        print('we are implementing even odd function')\n",
    "        print(\"take one number\")\n",
    "        num=random.randint(1,100)\n",
    "        if num%2==0:\n",
    "            print(\"the remainder is zero\")\n",
    "            print(\"{} is an even number\".format(num))\n",
    "        else:\n",
    "            print(\"the remainder is not equal to zero\")\n",
    "            print(\"{} is an odd number\".format(num))\n",
    "            \n",
    "    except Exception as e:\n",
    "        print(e)\n",
    "\n",
    "print('calling function')\n",
    "even_odd2()\n",
    "print(\"done!\")"
   ]
  },
  {
   "cell_type": "code",
   "execution_count": null,
   "id": "e4f048c3",
   "metadata": {},
   "outputs": [],
   "source": [
    "def addition():\n",
    "    n1=20\n",
    "    n2=30\n",
    "    print('addition:',n1+n2)\n",
    "\n",
    "print(\"mul function starts\")\n",
    "def mul():\n",
    "    n1=20\n",
    "    n2=30\n",
    "    print('mul:',n1*n2)\n",
    "    print(\"mul is done\") \n",
    "    \n",
    "print(\"subtraction function starts\")\n",
    "def sub():\n",
    "    n1=20\n",
    "    n2=30\n",
    "    print('sub:',n1-n2)\n",
    "    print(\"subtraction is done\")\n",
    "    \n",
    "print(\"anything remains\")\n",
    "print(\"no\")\n",
    "print(\"then call the function\")\n",
    "\n",
    "sub()\n",
    "mul()\n",
    "addition()"
   ]
  },
  {
   "cell_type": "code",
   "execution_count": null,
   "id": "caa2168a",
   "metadata": {},
   "outputs": [],
   "source": []
  },
  {
   "cell_type": "code",
   "execution_count": null,
   "id": "2f354b62",
   "metadata": {},
   "outputs": [],
   "source": [
    "def addition():\n",
    "    n1=10\n",
    "    n2=20\n",
    "    add=n1+n2\n",
    "    print(\"the addition of {} and {} is {}\".format(n1,n2,add))\n",
    "    \n",
    "addition()"
   ]
  },
  {
   "cell_type": "code",
   "execution_count": null,
   "id": "33212411",
   "metadata": {},
   "outputs": [],
   "source": [
    "def Bill():\n",
    "    try:\n",
    "        Bill_Amt= eval(input(\"Enter Bill amount\"))\n",
    "        Tip_Amt= eval(input(\"Enter Tip amount\"))\n",
    "        Total_Bill = Bill_Amt+Tip_Amt\n",
    "        print(\"Total Bill is {}\".format(Total_Bill))\n",
    "    except exception as e:\n",
    "        print(e)\n",
    "        \n",
    "Bill()"
   ]
  },
  {
   "cell_type": "code",
   "execution_count": null,
   "id": "01a851b6",
   "metadata": {},
   "outputs": [],
   "source": [
    "addition()\n",
    "Bill()"
   ]
  },
  {
   "cell_type": "markdown",
   "id": "39a69a2d",
   "metadata": {},
   "source": [
    "- if you are not mentioning any values inside the function bracket\n",
    "\n",
    "- with out arguments or with out parmeters\n",
    "\n",
    "- arguments or parameters"
   ]
  },
  {
   "cell_type": "markdown",
   "id": "caf132a6",
   "metadata": {},
   "source": [
    "**With arguments**"
   ]
  },
  {
   "cell_type": "code",
   "execution_count": null,
   "id": "173d39cf",
   "metadata": {},
   "outputs": [],
   "source": [
    "def addition():\n",
    "    n1=10\n",
    "    n2=20\n",
    "    add=n1+n2\n",
    "    print(\"the addition of {} and {} is {}\".format(n1,n2,add))\n",
    "    \n",
    "addition()\n",
    "\n",
    "# 1Q) inside function how many variables are there\n",
    "#      3 variables are there\n",
    "# 2Q) how many user provided variables\n",
    "#       2 variables"
   ]
  },
  {
   "cell_type": "code",
   "execution_count": 53,
   "id": "7ca17691",
   "metadata": {},
   "outputs": [
    {
     "name": "stdout",
     "output_type": "stream",
     "text": [
      "the addition of 100 and 200 is 300\n"
     ]
    }
   ],
   "source": [
    "def addition(n1,n2): # arguments\n",
    "    add=n1+n2\n",
    "    print(\"the addition of {} and {} is {}\".format(n1,n2,add))\n",
    "    \n",
    "addition(100,200)  # n1=100  n2=200"
   ]
  },
  {
   "cell_type": "code",
   "execution_count": 55,
   "id": "b6633c54",
   "metadata": {},
   "outputs": [
    {
     "ename": "TypeError",
     "evalue": "addition() missing 1 required positional argument: 'n2'",
     "output_type": "error",
     "traceback": [
      "\u001b[1;31m---------------------------------------------------------------------------\u001b[0m",
      "\u001b[1;31mTypeError\u001b[0m                                 Traceback (most recent call last)",
      "Cell \u001b[1;32mIn[55], line 6\u001b[0m\n\u001b[0;32m      3\u001b[0m     add\u001b[38;5;241m=\u001b[39mn1\u001b[38;5;241m+\u001b[39mn2\n\u001b[0;32m      4\u001b[0m     \u001b[38;5;28mprint\u001b[39m(\u001b[38;5;124m\"\u001b[39m\u001b[38;5;124mthe addition of \u001b[39m\u001b[38;5;132;01m{}\u001b[39;00m\u001b[38;5;124m and \u001b[39m\u001b[38;5;132;01m{}\u001b[39;00m\u001b[38;5;124m is \u001b[39m\u001b[38;5;132;01m{}\u001b[39;00m\u001b[38;5;124m\"\u001b[39m\u001b[38;5;241m.\u001b[39mformat(n1,n2,add))\n\u001b[1;32m----> 6\u001b[0m addition(\u001b[38;5;241m200\u001b[39m)\n",
      "\u001b[1;31mTypeError\u001b[0m: addition() missing 1 required positional argument: 'n2'"
     ]
    }
   ],
   "source": [
    "def addition(n1,n2):\n",
    "    add=n1+n2\n",
    "    print(\"the addition of {} and {} is {}\".format(n1,n2,add))\n",
    "    \n",
    "addition(200) "
   ]
  },
  {
   "cell_type": "code",
   "execution_count": 57,
   "id": "d405bd57",
   "metadata": {},
   "outputs": [
    {
     "ename": "TypeError",
     "evalue": "addition11() takes 0 positional arguments but 2 were given",
     "output_type": "error",
     "traceback": [
      "\u001b[1;31m---------------------------------------------------------------------------\u001b[0m",
      "\u001b[1;31mTypeError\u001b[0m                                 Traceback (most recent call last)",
      "Cell \u001b[1;32mIn[57], line 5\u001b[0m\n\u001b[0;32m      2\u001b[0m     add\u001b[38;5;241m=\u001b[39mn111\u001b[38;5;241m+\u001b[39mn222\n\u001b[0;32m      3\u001b[0m     \u001b[38;5;28mprint\u001b[39m(\u001b[38;5;124m\"\u001b[39m\u001b[38;5;124mthe addition of \u001b[39m\u001b[38;5;132;01m{}\u001b[39;00m\u001b[38;5;124m and \u001b[39m\u001b[38;5;132;01m{}\u001b[39;00m\u001b[38;5;124m is \u001b[39m\u001b[38;5;132;01m{}\u001b[39;00m\u001b[38;5;124m\"\u001b[39m\u001b[38;5;241m.\u001b[39mformat(n1,n2,add))\n\u001b[1;32m----> 5\u001b[0m addition11(\u001b[38;5;241m200\u001b[39m,\u001b[38;5;241m300\u001b[39m)\n",
      "\u001b[1;31mTypeError\u001b[0m: addition11() takes 0 positional arguments but 2 were given"
     ]
    }
   ],
   "source": [
    "def addition11():\n",
    "    add=n111+n222\n",
    "    print(\"the addition of {} and {} is {}\".format(n1,n2,add))\n",
    "    \n",
    "addition11(200,300)   # what is the error"
   ]
  },
  {
   "cell_type": "code",
   "execution_count": 58,
   "id": "80e78d67",
   "metadata": {},
   "outputs": [
    {
     "name": "stdout",
     "output_type": "stream",
     "text": [
      "num1: 20\n",
      "num2: 30\n",
      "num3: 40\n",
      "the average of 20,30 and 40 is 30.0\n"
     ]
    }
   ],
   "source": [
    "# Implement below code using with arguments\n",
    "def avg(num1,num2,num3):\n",
    "    print(\"num1:\",num1) # 20\n",
    "    print(\"num2:\",num2) #30\n",
    "    print(\"num3:\",num3) # 40\n",
    "    avg=(num1+num2+num3)/3\n",
    "    print(\"the average of {},{} and {} is {}\".format(num1,num2,num3,avg))\n",
    "    \n",
    "avg(20,30,40)"
   ]
  },
  {
   "cell_type": "code",
   "execution_count": 67,
   "id": "145d4016",
   "metadata": {},
   "outputs": [
    {
     "data": {
      "text/plain": [
       "12"
      ]
     },
     "execution_count": 67,
     "metadata": {},
     "output_type": "execute_result"
    }
   ],
   "source": [
    "num=12345\n",
    "v1=num%10     #5\n",
    "v11=num//100\n",
    "v11  # 1234\n",
    "\n",
    "v2=v11%10    # 4\n",
    "v2\n",
    "v22=v11//10 # 123\n",
    "v22\n",
    "\n",
    "# 12345========= 1234=====4\n",
    "# 54321"
   ]
  },
  {
   "cell_type": "code",
   "execution_count": 69,
   "id": "e33eb6a0",
   "metadata": {},
   "outputs": [
    {
     "data": {
      "text/plain": [
       "45"
      ]
     },
     "execution_count": 69,
     "metadata": {},
     "output_type": "execute_result"
    }
   ],
   "source": [
    "num=12345\n",
    "v1=num%100\n",
    "v1"
   ]
  },
  {
   "cell_type": "code",
   "execution_count": 66,
   "id": "2e3b59a1",
   "metadata": {},
   "outputs": [
    {
     "data": {
      "text/plain": [
       "1234"
      ]
     },
     "execution_count": 66,
     "metadata": {},
     "output_type": "execute_result"
    }
   ],
   "source": [
    "v11=num//10\n",
    "v11"
   ]
  },
  {
   "cell_type": "code",
   "execution_count": 64,
   "id": "8d34c6ff",
   "metadata": {},
   "outputs": [
    {
     "ename": "SyntaxError",
     "evalue": "invalid syntax. Maybe you meant '==' or ':=' instead of '='? (826857986.py, line 1)",
     "output_type": "error",
     "traceback": [
      "\u001b[1;36m  Cell \u001b[1;32mIn[64], line 1\u001b[1;36m\u001b[0m\n\u001b[1;33m    if a=10:\u001b[0m\n\u001b[1;37m       ^\u001b[0m\n\u001b[1;31mSyntaxError\u001b[0m\u001b[1;31m:\u001b[0m invalid syntax. Maybe you meant '==' or ':=' instead of '='?\n"
     ]
    }
   ],
   "source": [
    "if a=10:\n",
    "    print('h')"
   ]
  },
  {
   "cell_type": "code",
   "execution_count": null,
   "id": "cfec7eae",
   "metadata": {},
   "outputs": [],
   "source": [
    "7260927090"
   ]
  },
  {
   "cell_type": "code",
   "execution_count": null,
   "id": "8d1f8743",
   "metadata": {},
   "outputs": [],
   "source": [
    "12345 ======== 54"
   ]
  },
  {
   "cell_type": "code",
   "execution_count": 70,
   "id": "d16be38a",
   "metadata": {},
   "outputs": [
    {
     "data": {
      "text/plain": [
       "5"
      ]
     },
     "execution_count": 70,
     "metadata": {},
     "output_type": "execute_result"
    }
   ],
   "source": [
    "12345%10"
   ]
  },
  {
   "cell_type": "code",
   "execution_count": null,
   "id": "b755c2d1",
   "metadata": {},
   "outputs": [],
   "source": [
    "12345 ======== 4?"
   ]
  },
  {
   "cell_type": "code",
   "execution_count": null,
   "id": "7e9d453d",
   "metadata": {},
   "outputs": [],
   "source": [
    "1234?"
   ]
  },
  {
   "cell_type": "code",
   "execution_count": 71,
   "id": "5c392ef8",
   "metadata": {},
   "outputs": [
    {
     "name": "stdout",
     "output_type": "stream",
     "text": [
      "54\n"
     ]
    }
   ],
   "source": [
    "print(5,end='')\n",
    "print(4)"
   ]
  },
  {
   "cell_type": "code",
   "execution_count": null,
   "id": "95eb0733",
   "metadata": {},
   "outputs": [],
   "source": [
    "12345%10=====> 5"
   ]
  },
  {
   "cell_type": "code",
   "execution_count": 73,
   "id": "7ce8cb7d",
   "metadata": {},
   "outputs": [
    {
     "data": {
      "text/plain": [
       "1234"
      ]
     },
     "execution_count": 73,
     "metadata": {},
     "output_type": "execute_result"
    }
   ],
   "source": [
    "12345//10"
   ]
  },
  {
   "cell_type": "code",
   "execution_count": 78,
   "id": "3ff7dfb7",
   "metadata": {},
   "outputs": [
    {
     "data": {
      "text/plain": [
       "2"
      ]
     },
     "execution_count": 78,
     "metadata": {},
     "output_type": "execute_result"
    }
   ],
   "source": []
  },
  {
   "cell_type": "code",
   "execution_count": 79,
   "id": "6589a03d",
   "metadata": {},
   "outputs": [
    {
     "data": {
      "text/plain": [
       "100"
      ]
     },
     "execution_count": 79,
     "metadata": {},
     "output_type": "execute_result"
    }
   ],
   "source": [
    "180\n",
    "100"
   ]
  },
  {
   "cell_type": "code",
   "execution_count": null,
   "id": "151f1afd",
   "metadata": {},
   "outputs": [],
   "source": [
    "1100\n",
    "150\n",
    "310"
   ]
  },
  {
   "cell_type": "code",
   "execution_count": null,
   "id": "c919cf40",
   "metadata": {},
   "outputs": [],
   "source": []
  },
  {
   "cell_type": "code",
   "execution_count": null,
   "id": "335789f5",
   "metadata": {},
   "outputs": [],
   "source": []
  },
  {
   "cell_type": "code",
   "execution_count": null,
   "id": "6b6136d3",
   "metadata": {},
   "outputs": [],
   "source": []
  },
  {
   "cell_type": "code",
   "execution_count": null,
   "id": "fb98b784",
   "metadata": {},
   "outputs": [],
   "source": []
  },
  {
   "cell_type": "code",
   "execution_count": null,
   "id": "d30f6d4a",
   "metadata": {},
   "outputs": [],
   "source": []
  },
  {
   "cell_type": "code",
   "execution_count": null,
   "id": "9526d823",
   "metadata": {},
   "outputs": [],
   "source": []
  },
  {
   "cell_type": "code",
   "execution_count": null,
   "id": "5ce7d573",
   "metadata": {},
   "outputs": [],
   "source": []
  }
 ],
 "metadata": {
  "kernelspec": {
   "display_name": "Python 3 (ipykernel)",
   "language": "python",
   "name": "python3"
  },
  "language_info": {
   "codemirror_mode": {
    "name": "ipython",
    "version": 3
   },
   "file_extension": ".py",
   "mimetype": "text/x-python",
   "name": "python",
   "nbconvert_exporter": "python",
   "pygments_lexer": "ipython3",
   "version": "3.11.5"
  }
 },
 "nbformat": 4,
 "nbformat_minor": 5
}
