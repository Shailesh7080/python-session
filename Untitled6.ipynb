{
 "cells": [
  {
   "cell_type": "code",
   "execution_count": 2,
   "id": "3d4a3dd9",
   "metadata": {},
   "outputs": [],
   "source": [
    "def square():\n",
    "    number=eval(input(\"enter a number\"))\n",
    "    print(\"square of number{} is {}\".format(number,number*number))"
   ]
  },
  {
   "cell_type": "code",
   "execution_count": 3,
   "id": "c66489e0",
   "metadata": {},
   "outputs": [
    {
     "name": "stdout",
     "output_type": "stream",
     "text": [
      "enter a number5\n",
      "square of number5 is 25\n"
     ]
    }
   ],
   "source": [
    "square()"
   ]
  },
  {
   "cell_type": "code",
   "execution_count": 4,
   "id": "f888bbd9",
   "metadata": {},
   "outputs": [],
   "source": [
    "def square(number):\n",
    "        print(\"square of number{} is {}\".format(number,number*number))\n"
   ]
  },
  {
   "cell_type": "code",
   "execution_count": 6,
   "id": "b2aa44c6",
   "metadata": {},
   "outputs": [
    {
     "name": "stdout",
     "output_type": "stream",
     "text": [
      "square of number7 is 49\n"
     ]
    }
   ],
   "source": [
    "square(7)"
   ]
  },
  {
   "cell_type": "code",
   "execution_count": null,
   "id": "02fd384f",
   "metadata": {},
   "outputs": [],
   "source": []
  },
  {
   "cell_type": "code",
   "execution_count": 12,
   "id": "7ec9c486",
   "metadata": {},
   "outputs": [
    {
     "name": "stdout",
     "output_type": "stream",
     "text": [
      "enter a number5\n",
      "you lose\n"
     ]
    }
   ],
   "source": [
    "import random\n",
    "random_num=random.randint(1,20)\n",
    "num=eval(input(\"enter a number\"))\n",
    "\n",
    "if    random_num==num:\n",
    "      print(\"you won\")\n",
    "else:\n",
    "    print(\"you lose\")\n",
    "    "
   ]
  },
  {
   "cell_type": "code",
   "execution_count": null,
   "id": "9e4f0be8",
   "metadata": {},
   "outputs": [],
   "source": [
    "## method - 2 \n"
   ]
  },
  {
   "cell_type": "code",
   "execution_count": 16,
   "id": "81bb3ed9",
   "metadata": {},
   "outputs": [
    {
     "name": "stdout",
     "output_type": "stream",
     "text": [
      "you lose\n"
     ]
    }
   ],
   "source": [
    "import random\n",
    "def compare():\n",
    "    random_num=random.randint(1,20)\n",
    "    num=eval(input(\"enter a number:\"))\n",
    "\n",
    "if    random_num==num:\n",
    "      print(\"you won\")\n",
    "else:\n",
    "    print(\"you lose\")\n",
    "    \n",
    "    "
   ]
  },
  {
   "cell_type": "code",
   "execution_count": 18,
   "id": "cedc8897",
   "metadata": {},
   "outputs": [
    {
     "ename": "TypeError",
     "evalue": "compare() takes 0 positional arguments but 1 was given",
     "output_type": "error",
     "traceback": [
      "\u001b[1;31m---------------------------------------------------------------------------\u001b[0m",
      "\u001b[1;31mTypeError\u001b[0m                                 Traceback (most recent call last)",
      "Cell \u001b[1;32mIn[18], line 1\u001b[0m\n\u001b[1;32m----> 1\u001b[0m compare(\u001b[38;5;241m10\u001b[39m)\n",
      "\u001b[1;31mTypeError\u001b[0m: compare() takes 0 positional arguments but 1 was given"
     ]
    }
   ],
   "source": [
    "compare(10)"
   ]
  },
  {
   "cell_type": "code",
   "execution_count": 23,
   "id": "c96a56ad",
   "metadata": {},
   "outputs": [
    {
     "name": "stdout",
     "output_type": "stream",
     "text": [
      "you lost because randon number is 18\n"
     ]
    },
    {
     "ename": "TypeError",
     "evalue": "compare() takes 0 positional arguments but 1 was given",
     "output_type": "error",
     "traceback": [
      "\u001b[1;31m---------------------------------------------------------------------------\u001b[0m",
      "\u001b[1;31mTypeError\u001b[0m                                 Traceback (most recent call last)",
      "Cell \u001b[1;32mIn[23], line 10\u001b[0m\n\u001b[0;32m      8\u001b[0m \u001b[38;5;28;01melse\u001b[39;00m:\n\u001b[0;32m      9\u001b[0m     \u001b[38;5;28mprint\u001b[39m(\u001b[38;5;124m\"\u001b[39m\u001b[38;5;124myou lost because randon number is\u001b[39m\u001b[38;5;124m\"\u001b[39m,random_num)\n\u001b[1;32m---> 10\u001b[0m compare(\u001b[38;5;241m5\u001b[39m)\n",
      "\u001b[1;31mTypeError\u001b[0m: compare() takes 0 positional arguments but 1 was given"
     ]
    }
   ],
   "source": [
    "import random\n",
    "def compare():\n",
    "    random_num=random.randint(1,20)\n",
    "    num=eval(input(\"enter a number:\"))\n",
    "\n",
    "if    random_num==num:\n",
    "      print(\"you won\")\n",
    "else:\n",
    "    print(\"you lost because randon number is\",random_num)\n",
    "compare(5)\n",
    "\n",
    "       \n",
    "    "
   ]
  },
  {
   "cell_type": "code",
   "execution_count": null,
   "id": "a62e291f",
   "metadata": {},
   "outputs": [],
   "source": []
  }
 ],
 "metadata": {
  "kernelspec": {
   "display_name": "Python 3 (ipykernel)",
   "language": "python",
   "name": "python3"
  },
  "language_info": {
   "codemirror_mode": {
    "name": "ipython",
    "version": 3
   },
   "file_extension": ".py",
   "mimetype": "text/x-python",
   "name": "python",
   "nbconvert_exporter": "python",
   "pygments_lexer": "ipython3",
   "version": "3.11.5"
  }
 },
 "nbformat": 4,
 "nbformat_minor": 5
}
