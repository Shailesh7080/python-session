{
 "cells": [
  {
   "cell_type": "code",
   "execution_count": null,
   "id": "82bd1953",
   "metadata": {},
   "outputs": [],
   "source": [
    "r=float(input(\"Enter radius:\"))\n",
    "ac=3.14*r*r\n",
    "print(\"Radius:{}\".format(r))\n",
    "print(\"Area of Circle:{}\".format(ac))\n"
   ]
  },
  {
   "cell_type": "code",
   "execution_count": null,
   "id": "b172863e",
   "metadata": {},
   "outputs": [],
   "source": [
    "##"
   ]
  },
  {
   "cell_type": "code",
   "execution_count": null,
   "id": "edb9ac54",
   "metadata": {},
   "outputs": [],
   "source": [
    "import math\n",
    "pii=math.pi\n",
    "r=eval(input(\"enter the radius\"))\n",
    "area1=round(pii*r*r,2)\n",
    "print(\"the area of circle\",area1)\n"
   ]
  },
  {
   "cell_type": "code",
   "execution_count": null,
   "id": "0c56e1a1",
   "metadata": {},
   "outputs": [],
   "source": []
  },
  {
   "cell_type": "code",
   "execution_count": null,
   "id": "5c67a55d",
   "metadata": {},
   "outputs": [],
   "source": [
    "import math\n",
    "def area of circle(r):\n",
    "    pii=math.pi\n",
    "    area1=round(pii*r*r,2)\n",
    "    print(\"the area of circle\",area1)\n",
    "r=eval(input(\"enter radius\"))\n",
    "area_of_circle(r)"
   ]
  },
  {
   "cell_type": "code",
   "execution_count": null,
   "id": "a2e65616",
   "metadata": {},
   "outputs": [],
   "source": [
    "import math\n",
    "def area_of_circle(r):\n",
    "    pii=math.pi\n",
    "    area1=round(pii*r*r,2)\n",
    "    print(\"the area of circle\",area1)\n",
    "r=eval(input(\"enter radius\"))\n",
    "\n",
    "\n"
   ]
  },
  {
   "cell_type": "markdown",
   "id": "95a8221e",
   "metadata": {},
   "source": [
    "## defalt parameter\n"
   ]
  },
  {
   "cell_type": "code",
   "execution_count": null,
   "id": "34a12cf6",
   "metadata": {},
   "outputs": [],
   "source": [
    "import math\n",
    "def area_of_circle(r=20):\n",
    "    pii=math.pi\n",
    "    area1=round(pii*r*r,2)\n",
    "    print(\"the area of circle\",area1)\n",
    "r=eval(input(\"enter radius\"))\n",
    "area_of_circle(3.14)"
   ]
  },
  {
   "cell_type": "code",
   "execution_count": null,
   "id": "dd5bec48",
   "metadata": {},
   "outputs": [],
   "source": []
  },
  {
   "cell_type": "code",
   "execution_count": null,
   "id": "fe3e8151",
   "metadata": {},
   "outputs": [],
   "source": [
    "import math\n",
    "def area_of_circle(r=20):\n",
    "    pii=math.pi\n",
    "    area1=round(pii*r*r,2)\n",
    "    print(\"the area of circle\",area1)\n",
    "r=eval(input(\"enter radius\"))\n",
    "area_of_circle(3.14)"
   ]
  },
  {
   "cell_type": "code",
   "execution_count": null,
   "id": "493d435e",
   "metadata": {},
   "outputs": [],
   "source": [
    "area1"
   ]
  },
  {
   "cell_type": "code",
   "execution_count": null,
   "id": "c8a79f4d",
   "metadata": {},
   "outputs": [],
   "source": []
  },
  {
   "cell_type": "code",
   "execution_count": null,
   "id": "b3cd1b0f",
   "metadata": {},
   "outputs": [],
   "source": []
  },
  {
   "cell_type": "code",
   "execution_count": null,
   "id": "642d6846",
   "metadata": {},
   "outputs": [],
   "source": [
    "# "
   ]
  },
  {
   "cell_type": "markdown",
   "id": "d23f1443",
   "metadata": {},
   "source": [
    "# parameter\n"
   ]
  },
  {
   "cell_type": "code",
   "execution_count": null,
   "id": "6d3b2b33",
   "metadata": {},
   "outputs": [],
   "source": [
    "import math\n",
    "def area_of_circle(r=20):\n",
    "    pii=math.pi\n",
    "    area1=round(pii*r*r,2)\n",
    "    print(\"the area of circle\",area1)\n",
    "r=eval(input(\"enter radius\"))\n",
    "area_of_circle(3.14)"
   ]
  },
  {
   "cell_type": "code",
   "execution_count": null,
   "id": "814a56b5",
   "metadata": {},
   "outputs": [],
   "source": []
  },
  {
   "cell_type": "code",
   "execution_count": null,
   "id": "1db94504",
   "metadata": {},
   "outputs": [],
   "source": [
    "# return values"
   ]
  },
  {
   "cell_type": "code",
   "execution_count": null,
   "id": "081bc735",
   "metadata": {},
   "outputs": [],
   "source": [
    "def avg(num1,num2,num3):\n",
    "    print(\"num1:\",num1) # 20\n",
    "    print(\"num2:\",num2) #30\n",
    "    print(\"num3:\",num3) # 40\n",
    "    avg=(num1+num2+num3)/3\n",
    "    retun(num1,num2,num3)\n",
    "    "
   ]
  },
  {
   "cell_type": "code",
   "execution_count": null,
   "id": "b72da9aa",
   "metadata": {},
   "outputs": [],
   "source": [
    "def avg(num1,num2,num3):\n",
    "    print(\"num1:\",num1) # 20\n",
    "    print(\"num2:\",num2) #30\n",
    "    print(\"num3:\",num3) # 40\n",
    "    avg=(num1+num2+num3)/3\n",
    "    print(avg)\n",
    "    \n",
    "    "
   ]
  },
  {
   "cell_type": "code",
   "execution_count": null,
   "id": "e346630a",
   "metadata": {},
   "outputs": [],
   "source": []
  },
  {
   "cell_type": "code",
   "execution_count": 3,
   "id": "c63b28f6",
   "metadata": {},
   "outputs": [
    {
     "name": "stdout",
     "output_type": "stream",
     "text": [
      "sum: <built-in function sum>\n",
      "avg: 20.0\n"
     ]
    },
    {
     "data": {
      "text/plain": [
       "(60, 20.0)"
      ]
     },
     "execution_count": 3,
     "metadata": {},
     "output_type": "execute_result"
    }
   ],
   "source": [
    "def sum_avg(n1,n2,n3):\n",
    "    summ=n1+n2+n3\n",
    "    avg=summ/3\n",
    "    print(\"sum:\",sum)\n",
    "    print(\"avg:\",avg)\n",
    "    return(summ,avg)\n",
    "\n",
    "sum_avg(10,20,30)"
   ]
  },
  {
   "cell_type": "code",
   "execution_count": null,
   "id": "cc03bc95",
   "metadata": {},
   "outputs": [],
   "source": []
  },
  {
   "cell_type": "code",
   "execution_count": 4,
   "id": "430ba083",
   "metadata": {},
   "outputs": [],
   "source": [
    "#biggest number\n"
   ]
  },
  {
   "cell_type": "code",
   "execution_count": 10,
   "id": "c92a2e25",
   "metadata": {},
   "outputs": [
    {
     "name": "stdout",
     "output_type": "stream",
     "text": [
      "n2 is big_num\n",
      "big number\n"
     ]
    }
   ],
   "source": [
    "def big_num(n1,n2,n3):\n",
    "    if n1>n2 and n1>n3:\n",
    "        print(\"n1 is big_num\".format(n1))\n",
    "        return(n1)\n",
    "    \n",
    "    elif n2>n3:\n",
    "        print(\"n2 is big_num\".format(n2))\n",
    "        return(n2)\n",
    "    else:\n",
    "        print(\"{} is big_num\".format(n3))\n",
    "        return(n3)\n",
    "big_num(10,20,5)\n",
    "\n",
    "print(\"big number\")    "
   ]
  },
  {
   "cell_type": "code",
   "execution_count": null,
   "id": "83dcfc65",
   "metadata": {},
   "outputs": [],
   "source": []
  },
  {
   "cell_type": "code",
   "execution_count": 11,
   "id": "4b214faa",
   "metadata": {},
   "outputs": [
    {
     "name": "stdout",
     "output_type": "stream",
     "text": [
      "20\n"
     ]
    }
   ],
   "source": [
    "def mul(a,b):\n",
    "    return(a*b)\n",
    "val=mul(5,4)\n",
    "print(val)\n",
    "\n",
    "\n"
   ]
  },
  {
   "cell_type": "code",
   "execution_count": 14,
   "id": "689e48c3",
   "metadata": {},
   "outputs": [
    {
     "ename": "NameError",
     "evalue": "name 'retrun' is not defined",
     "output_type": "error",
     "traceback": [
      "\u001b[1;31m---------------------------------------------------------------------------\u001b[0m",
      "\u001b[1;31mNameError\u001b[0m                                 Traceback (most recent call last)",
      "Cell \u001b[1;32mIn[14], line 6\u001b[0m\n\u001b[0;32m      4\u001b[0m     retrun(a\u001b[38;5;241m-\u001b[39mb)\n\u001b[0;32m      5\u001b[0m val_div\u001b[38;5;241m=\u001b[39mdiv(\u001b[38;5;241m20\u001b[39m,\u001b[38;5;241m4\u001b[39m)\n\u001b[1;32m----> 6\u001b[0m val_sub\u001b[38;5;241m=\u001b[39msub(\u001b[38;5;241m20\u001b[39m,\u001b[38;5;241m10\u001b[39m)\n\u001b[0;32m      7\u001b[0m \u001b[38;5;28mprint\u001b[39m(\u001b[38;5;124m\"\u001b[39m\u001b[38;5;124mval_div,val_sub\u001b[39m\u001b[38;5;124m\"\u001b[39m)\n",
      "Cell \u001b[1;32mIn[14], line 4\u001b[0m, in \u001b[0;36msub\u001b[1;34m(a, b)\u001b[0m\n\u001b[0;32m      3\u001b[0m \u001b[38;5;28;01mdef\u001b[39;00m \u001b[38;5;21msub\u001b[39m(a,b):\n\u001b[1;32m----> 4\u001b[0m     retrun(a\u001b[38;5;241m-\u001b[39mb)\n",
      "\u001b[1;31mNameError\u001b[0m: name 'retrun' is not defined"
     ]
    }
   ],
   "source": [
    "def div(a,b):\n",
    "    return(a/b)\n",
    "\n",
    "\n",
    "\n",
    "def sub(a,b):\n",
    "    retrun(a-b)\n",
    "val_div=div(20,4)\n",
    "val_sub=sub(20,10)\n",
    "print(\"val_div,val_sub\")\n"
   ]
  },
  {
   "cell_type": "code",
   "execution_count": null,
   "id": "26c15c19",
   "metadata": {},
   "outputs": [],
   "source": [
    "\n",
    "\n",
    "\n",
    "\n"
   ]
  },
  {
   "cell_type": "code",
   "execution_count": null,
   "id": "bb6d25cf",
   "metadata": {},
   "outputs": [],
   "source": []
  }
 ],
 "metadata": {
  "kernelspec": {
   "display_name": "Python 3 (ipykernel)",
   "language": "python",
   "name": "python3"
  },
  "language_info": {
   "codemirror_mode": {
    "name": "ipython",
    "version": 3
   },
   "file_extension": ".py",
   "mimetype": "text/x-python",
   "name": "python",
   "nbconvert_exporter": "python",
   "pygments_lexer": "ipython3",
   "version": "3.11.5"
  }
 },
 "nbformat": 4,
 "nbformat_minor": 5
}
